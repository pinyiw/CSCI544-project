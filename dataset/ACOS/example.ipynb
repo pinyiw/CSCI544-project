{
 "cells": [
  {
   "cell_type": "code",
   "execution_count": 1,
   "metadata": {},
   "outputs": [],
   "source": [
    "from dotenv import load_dotenv\n",
    "import openai\n",
    "import os\n",
    "import json\n",
    "from pathlib import Path\n",
    "from dataclasses import asdict\n",
    "\n",
    "from dataset.ACOS.utils import (\n",
    "\tACOSQuad, ACOSReview, ACOSPrediction,\n",
    "\tload_acos_reviews, openai_pred_acos, evaluate_acos_preds,\n",
    "\tlaptop_acos_train_file, laptop_acos_dev_file,\n",
    "\trestaurant_acos_train_file, restaurant_acos_dev_file,\n",
    ")"
   ]
  },
  {
   "attachments": {},
   "cell_type": "markdown",
   "metadata": {},
   "source": [
    "# Load ACOS dataset"
   ]
  },
  {
   "cell_type": "code",
   "execution_count": 2,
   "metadata": {},
   "outputs": [
    {
     "name": "stdout",
     "output_type": "stream",
     "text": [
      "Loaded 2,934 training reviews\n",
      "Loaded 326 dev reviews\n",
      "\n",
      "Review: acer wants $ 170 to just look at it then add the repair cost on top of that .\n",
      "ACOS quads: [ACOSQuad(aspect=['acer'], category='PRICE', opinion=None, sentiment='neutral')]\n"
     ]
    }
   ],
   "source": [
    "lines_to_read = -1\n",
    "acos_reviews_train: list[ACOSReview] = load_acos_reviews(laptop_acos_train_file, lines_to_read)\n",
    "acos_reviews_dev: list[ACOSReview] = load_acos_reviews(laptop_acos_dev_file, lines_to_read)\n",
    "\n",
    "print(f\"Loaded {len(acos_reviews_train):,d} training reviews\")\n",
    "print(f\"Loaded {len(acos_reviews_dev):,d} dev reviews\")\n",
    "\n",
    "print()\n",
    "print(f'Review: {acos_reviews_train[0].review}')\n",
    "print(f'ACOS quads: {acos_reviews_train[0].acos_quads}')\n"
   ]
  },
  {
   "attachments": {},
   "cell_type": "markdown",
   "metadata": {},
   "source": [
    "# ACOS prediction with OpenAI few shots learning"
   ]
  },
  {
   "cell_type": "code",
   "execution_count": 3,
   "metadata": {},
   "outputs": [],
   "source": [
    "# Set OpenAI keys\n",
    "load_dotenv()\n",
    "openai.organization = os.getenv('OPENAI_ORG_ID')\n",
    "openai.api_key = os.getenv('OPENAI_KEY')"
   ]
  },
  {
   "cell_type": "code",
   "execution_count": 4,
   "metadata": {},
   "outputs": [
    {
     "name": "stdout",
     "output_type": "stream",
     "text": [
      "Using 3 training examples\n",
      "Completed 0 reviews\n",
      "Total tokens used: 1,177\n",
      "Credit used: 0.02\n",
      "Total reviews: 5\n"
     ]
    }
   ],
   "source": [
    "openai_model = \"text-davinci-003\"\n",
    "train_data_len = 3\n",
    "\n",
    "print(f\"Using {train_data_len} training examples\")\n",
    "prompt_review_examples: list[ACOSReview] = acos_reviews_train[:train_data_len]\n",
    "acos_reviews_to_predict: list[ACOSReview] = acos_reviews_dev[:5]\n",
    "acos_preds: list[ACOSPrediction] = openai_pred_acos(acos_reviews_to_predict, prompt_review_examples, openai_model)\n"
   ]
  },
  {
   "cell_type": "code",
   "execution_count": 5,
   "metadata": {},
   "outputs": [
    {
     "name": "stdout",
     "output_type": "stream",
     "text": [
      "Review: this unit is ` ` pretty ` ` and stylish , so my high school daughter was attracted to it for that reason .\n",
      "ACOS predicted: [ACOSQuad(aspect=['unit'], category='DESIGN', opinion=['pretty'], sentiment='positive')]\n",
      "ACOS targets: [ACOSQuad(aspect=['unit'], category='DESIGN_FEATURES', opinion=['pretty'], sentiment='positive'), ACOSQuad(aspect=['unit'], category='DESIGN_FEATURES', opinion=['stylish'], sentiment='positive')]\n"
     ]
    }
   ],
   "source": [
    "print(f'Review: {acos_preds[0].review}')\n",
    "print(f'ACOS predicted: {acos_preds[0].acos_preds}')\n",
    "print(f'ACOS targets: {acos_preds[0].acos_targets}')"
   ]
  },
  {
   "cell_type": "code",
   "execution_count": 6,
   "metadata": {},
   "outputs": [
    {
     "name": "stdout",
     "output_type": "stream",
     "text": [
      "Precision: 0.600000\n",
      "Recall: 0.500000\n",
      "F1: 0.545455\n"
     ]
    }
   ],
   "source": [
    "precision, recall, f1 = evaluate_acos_preds(acos_preds)\n",
    "\n",
    "print(f\"Precision: {precision:.6f}\")\n",
    "print(f\"Recall: {recall:.6f}\")\n",
    "print(f\"F1: {f1:.6f}\")"
   ]
  },
  {
   "attachments": {},
   "cell_type": "markdown",
   "metadata": {},
   "source": [
    "# Save and load predictions"
   ]
  },
  {
   "cell_type": "code",
   "execution_count": 7,
   "metadata": {},
   "outputs": [],
   "source": [
    "output_dir = Path('outputs')\n",
    "output_dir.mkdir(exist_ok=True)\n",
    "\n",
    "output_file = output_dir / f'preds.jsonl'\n",
    "with open(output_file, 'w') as f:\n",
    "    for i, acos_pred in enumerate(acos_preds):\n",
    "        f.write(json.dumps(asdict(acos_pred)) + '\\n')"
   ]
  },
  {
   "cell_type": "code",
   "execution_count": 8,
   "metadata": {},
   "outputs": [
    {
     "data": {
      "text/plain": [
       "True"
      ]
     },
     "execution_count": 8,
     "metadata": {},
     "output_type": "execute_result"
    }
   ],
   "source": [
    "with open(output_file, 'r') as f:\n",
    "    l = [ACOSPrediction.from_dict(json.loads(line)) for line in f]\n",
    "\n",
    "l == acos_preds"
   ]
  },
  {
   "cell_type": "code",
   "execution_count": 9,
   "metadata": {},
   "outputs": [
    {
     "name": "stdout",
     "output_type": "stream",
     "text": [
      "Precision: 0.600000\n",
      "Recall: 0.500000\n",
      "F1: 0.545455\n"
     ]
    }
   ],
   "source": [
    "precision, recall, f1 = evaluate_acos_preds(l)\n",
    "\n",
    "print(f\"Precision: {precision:.6f}\")\n",
    "print(f\"Recall: {recall:.6f}\")\n",
    "print(f\"F1: {f1:.6f}\")"
   ]
  },
  {
   "cell_type": "code",
   "execution_count": null,
   "metadata": {},
   "outputs": [],
   "source": []
  }
 ],
 "metadata": {
  "kernelspec": {
   "display_name": "nlp-project",
   "language": "python",
   "name": "python3"
  },
  "language_info": {
   "codemirror_mode": {
    "name": "ipython",
    "version": 3
   },
   "file_extension": ".py",
   "mimetype": "text/x-python",
   "name": "python",
   "nbconvert_exporter": "python",
   "pygments_lexer": "ipython3",
   "version": "3.11.2"
  },
  "orig_nbformat": 4,
  "vscode": {
   "interpreter": {
    "hash": "b4dfc00a116c59357e8cd3d0fde6f168101df4d0714ae192fc8b479728345f63"
   }
  }
 },
 "nbformat": 4,
 "nbformat_minor": 2
}
